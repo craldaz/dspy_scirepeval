{
 "cells": [
  {
   "cell_type": "code",
   "execution_count": 3,
   "id": "ecc6bcda-673f-4d5d-8335-d639fc28a48d",
   "metadata": {},
   "outputs": [],
   "source": [
    "import numpy as np\n",
    "#sklearn\n",
    "from lightning.classification import LinearSVC\n",
    "from sklearn.model_selection import GridSearchCV\n",
    "import logging\n",
    "import datasets\n",
    "import os\n",
    "from sklearn.metrics.pairwise import euclidean_distances"
   ]
  },
  {
   "cell_type": "code",
   "execution_count": 106,
   "id": "569ec942-f035-4db2-9557-5a7188a70a48",
   "metadata": {},
   "outputs": [],
   "source": [
    "# Uses SciRepEval code to train a support vector classifier\n",
    "RANDOM_STATE=42\n",
    "def classify(x_train: np.ndarray, x_test: np.ndarray, y_train: np.ndarray, cv: int = 3,\n",
    "             n_jobs: int = 5):\n",
    "    Cs = np.logspace(-2, 2, 5)\n",
    "    estimator = LinearSVC(loss=\"squared_hinge\", random_state=RANDOM_STATE)\n",
    "    svm = GridSearchCV(estimator=estimator, cv=cv, param_grid={'C': Cs}, verbose=1, n_jobs=n_jobs)\n",
    "    svm.fit(x_train, y_train)\n",
    "    preds = svm.predict(x_test)\n",
    "    return preds"
   ]
  },
  {
   "cell_type": "code",
   "execution_count": 71,
   "id": "6c5683ba-6ce6-48d1-8b4c-573f9f070fda",
   "metadata": {},
   "outputs": [],
   "source": [
    "# Load corpus ids\n",
    "qpaper = []\n",
    "cpaper = []\n",
    "rpaper = []\n",
    "\n",
    "with open ('qpaper_to_emb', 'r') as f:\n",
    "    for line in f:\n",
    "        qpaper.append(line.strip())\n",
    "\n",
    "with open ('cpaper_to_emb', 'r') as f:\n",
    "    for line in f:\n",
    "        cpaper.append(line.strip())\n",
    "\n",
    "with open ('rpaper_to_emb', 'r') as f:\n",
    "    for line in f:\n",
    "        rpaper.append(line.strip())"
   ]
  },
  {
   "cell_type": "code",
   "execution_count": 7,
   "id": "bf3ef72d-7a0b-4ad1-8868-992e1bf4e964",
   "metadata": {},
   "outputs": [],
   "source": [
    "# Load SPECTER embeddings\n",
    "q_emb = np.loadtxt('qpaper.specter')\n",
    "c_emb = np.loadtxt('cpaper.specter')\n",
    "r_emb = np.loadtxt('rpaper.specter')"
   ]
  },
  {
   "cell_type": "code",
   "execution_count": 15,
   "id": "25721d45-01fb-4f5f-bae9-2bbe98703890",
   "metadata": {},
   "outputs": [
    {
     "data": {
      "text/plain": [
       "(dtype('float64'),\n",
       " (115, 768),\n",
       " dtype('float64'),\n",
       " (637, 768),\n",
       " dtype('float64'),\n",
       " (234, 768))"
      ]
     },
     "execution_count": 15,
     "metadata": {},
     "output_type": "execute_result"
    }
   ],
   "source": [
    "q_emb.dtype, q_emb.shape, c_emb.dtype, c_emb.shape, r_emb.dtype, r_emb.shape"
   ]
  },
  {
   "cell_type": "code",
   "execution_count": 96,
   "id": "8ef5e6e2-61a0-4c1f-b05d-461b8bbcfc8a",
   "metadata": {},
   "outputs": [],
   "source": [
    "# Set up the qid, cid, label dict\n",
    "qrel = {}\n",
    "with open('reduced.test.qrel.cid', 'r') as f:\n",
    "    for line in f:\n",
    "        temp = line.split(' ')\n",
    "        qid = temp[0].strip()\n",
    "        cid = temp[1].strip()\n",
    "        label = temp[2].strip()\n",
    "        if qid not in qrel:\n",
    "            qrel[qid] = {}\n",
    "        qrel[qid][cid] = label"
   ]
  },
  {
   "cell_type": "code",
   "execution_count": 32,
   "id": "cbabc0a3-bb26-4e07-8d7a-b70e83432042",
   "metadata": {},
   "outputs": [
    {
     "data": {
      "text/plain": [
       "78"
      ]
     },
     "execution_count": 32,
     "metadata": {},
     "output_type": "execute_result"
    }
   ],
   "source": [
    "# Count the positive labels\n",
    "positive_counter = 0\n",
    "qrel = {}\n",
    "with open('reduced.test.qrel.cid', 'r') as f:\n",
    "    for line in f:\n",
    "        temp = line.split(' ')\n",
    "        label = temp[2].strip()\n",
    "        if label == \"1\":\n",
    "            positive_counter += 1\n",
    "positive_counter            "
   ]
  },
  {
   "cell_type": "code",
   "execution_count": 57,
   "id": "3967def3-09df-47f2-a19e-57fea2a0a6e1",
   "metadata": {},
   "outputs": [
    {
     "data": {
      "text/plain": [
       "221"
      ]
     },
     "execution_count": 57,
     "metadata": {},
     "output_type": "execute_result"
    }
   ],
   "source": [
    "# Set up corpus id and retrieved id dict\n",
    "corpus_r = {}\n",
    "q_counter = set()\n",
    "c_counter = set()\n",
    "with open('link-recorder-final-1', 'r') as f:\n",
    "    for line in f:\n",
    "        temp = line.split('\\t')\n",
    "        corpus_id = temp[0].strip()\n",
    "        r_id = temp[1].strip()\n",
    "        if corpus_id in qpaper:\n",
    "            q_counter.add(corpus_id)\n",
    "            if corpus_id not in corpus_r:\n",
    "                corpus_r[corpus_id] = {r_id}\n",
    "            else:\n",
    "                corpus_r[corpus_id].add(r_id)\n",
    "        \n",
    "        if corpus_id in cpaper:\n",
    "            c_counter.add(corpus_id)\n",
    "            if corpus_id not in corpus_r:\n",
    "                corpus_r[corpus_id] = {r_id}\n",
    "            else:\n",
    "                corpus_r[corpus_id].add(r_id)\n",
    "           \n",
    "len(corpus_r)"
   ]
  },
  {
   "cell_type": "code",
   "execution_count": 50,
   "id": "fb6fc54e-3a42-412c-9e16-ebfcfe666072",
   "metadata": {},
   "outputs": [
    {
     "data": {
      "text/plain": [
       "(28, 193)"
      ]
     },
     "execution_count": 50,
     "metadata": {},
     "output_type": "execute_result"
    }
   ],
   "source": [
    "len(q_counter), len(c_counter)"
   ]
  },
  {
   "cell_type": "code",
   "execution_count": 58,
   "id": "cba58885-d218-460e-a018-b0ea7ef79188",
   "metadata": {},
   "outputs": [],
   "source": [
    "r_corpus = {}\n",
    "for k, v in corpus_r.items():\n",
    "    v = list(v)\n",
    "    for i in range(len(v)):\n",
    "        if v[i] not in r_corpus:\n",
    "            r_corpus[v[i]] = {k}\n",
    "        else:\n",
    "            r_corpus[v[i]].add(k)"
   ]
  },
  {
   "cell_type": "code",
   "execution_count": 59,
   "id": "38d59fdf-152a-45c8-b910-1505bc5724aa",
   "metadata": {},
   "outputs": [
    {
     "data": {
      "text/plain": [
       "234"
      ]
     },
     "execution_count": 59,
     "metadata": {},
     "output_type": "execute_result"
    }
   ],
   "source": [
    "len(r_corpus)"
   ]
  },
  {
   "cell_type": "code",
   "execution_count": 36,
   "id": "f1efa849-4b6f-47a8-b73c-6104eecde1e8",
   "metadata": {},
   "outputs": [
    {
     "data": {
      "text/plain": [
       "0.11908396946564885"
      ]
     },
     "execution_count": 36,
     "metadata": {},
     "output_type": "execute_result"
    }
   ],
   "source": [
    "# ratio of positive labels in test set\n",
    "78 / 655"
   ]
  },
  {
   "cell_type": "code",
   "execution_count": 61,
   "id": "39178b1a-314b-42c5-b31c-ec5cd634803f",
   "metadata": {},
   "outputs": [
    {
     "data": {
      "text/plain": [
       "1966.3865546218487"
      ]
     },
     "execution_count": 61,
     "metadata": {},
     "output_type": "execute_result"
    }
   ],
   "source": [
    "# an ideal number of negative samples in train set\n",
    "234 / 0.119"
   ]
  },
  {
   "cell_type": "code",
   "execution_count": 64,
   "id": "0db24e1f-5a45-4cff-804a-2b30ed8d4450",
   "metadata": {},
   "outputs": [
    {
     "data": {
      "text/plain": [
       "8.401709401709402"
      ]
     },
     "execution_count": 64,
     "metadata": {},
     "output_type": "execute_result"
    }
   ],
   "source": [
    "# negative samples needed per each positive sample\n",
    "1966 / 234"
   ]
  },
  {
   "cell_type": "code",
   "execution_count": 65,
   "id": "fc096c9e-fa57-486e-870b-f2c5a118bc3c",
   "metadata": {},
   "outputs": [
    {
     "data": {
      "text/plain": [
       "2106"
      ]
     },
     "execution_count": 65,
     "metadata": {},
     "output_type": "execute_result"
    }
   ],
   "source": [
    "# Final total for X_train\n",
    "234 * 9"
   ]
  },
  {
   "cell_type": "code",
   "execution_count": 77,
   "id": "45fd85e0-9487-4d5d-b268-3781ff48a40f",
   "metadata": {},
   "outputs": [],
   "source": [
    "import random\n",
    "\n",
    "def generate_random_numbers(n, range_max, exclude):\n",
    "    numbers = set(range(range_max)) - {exclude}\n",
    "    return random.sample(numbers, n)"
   ]
  },
  {
   "cell_type": "code",
   "execution_count": 82,
   "id": "6c570133-c072-4852-a325-66ab11675105",
   "metadata": {},
   "outputs": [
    {
     "name": "stderr",
     "output_type": "stream",
     "text": [
      "/var/folders/_y/xx88m0sx4s96c12lqts9h7tm0000gn/T/ipykernel_92930/3446939221.py:5: DeprecationWarning: Sampling from a set deprecated\n",
      "since Python 3.9 and will be removed in a subsequent version.\n",
      "  return random.sample(numbers, n)\n"
     ]
    },
    {
     "data": {
      "text/plain": [
       "(2124, 1536)"
      ]
     },
     "execution_count": 82,
     "metadata": {},
     "output_type": "execute_result"
    }
   ],
   "source": [
    "# Concatenate the test set paper emb and retrieved paper emb to construct X_train and x_test\n",
    "# Turns out that there are two retrieved papers that each matches with two test set papers. \n",
    "X_train = []\n",
    "\n",
    "for idx in range(len(rpaper)):\n",
    "    r_id = rpaper[idx]\n",
    "    retrieved_emb = r_emb[idx]\n",
    "    t_ids = r_corpus[r_id]\n",
    "    for t_id in t_ids:\n",
    "        if t_id in qpaper:\n",
    "            index = qpaper.index(t_id)\n",
    "            t_emb = q_emb[index]\n",
    "        else:\n",
    "            index = cpaper.index(t_id)\n",
    "            t_emb = c_emb[index]\n",
    "        p_train_sample = np.hstack((t_emb, retrieved_emb))\n",
    "        X_train.append(p_train_sample)\n",
    "        r_ids = generate_random_numbers(8, len(rpaper), idx)\n",
    "        for id in r_ids:\n",
    "            r_id = rpaper[id]\n",
    "            retrieved_emb = r_emb[id]\n",
    "            n_train_sample = np.hstack((t_emb, retrieved_emb))\n",
    "            X_train.append(n_train_sample)\n",
    "\n",
    "X_train = np.array(X_train, dtype=np.float64)\n",
    "X_train.shape"
   ]
  },
  {
   "cell_type": "code",
   "execution_count": 92,
   "id": "25b577df-2941-4306-aa58-80879e27c616",
   "metadata": {},
   "outputs": [
    {
     "data": {
      "text/plain": [
       "(2124,)"
      ]
     },
     "execution_count": 92,
     "metadata": {},
     "output_type": "execute_result"
    }
   ],
   "source": [
    "# Create y_train where one positive label is followed by 8 negative labels. \n",
    "pattern = [1] + [0] * 8\n",
    "full_repetitions = 2124 // len(pattern)\n",
    "y_train = (pattern * (full_repetitions))\n",
    "y_train = np.array(y_train, dtype=np.float64)\n",
    "y_train.shape"
   ]
  },
  {
   "cell_type": "code",
   "execution_count": 101,
   "id": "09836306-f35f-47db-bb3e-1e3c4826d2e8",
   "metadata": {},
   "outputs": [
    {
     "data": {
      "text/plain": [
       "((622, 1536), (622,))"
      ]
     },
     "execution_count": 101,
     "metadata": {},
     "output_type": "execute_result"
    }
   ],
   "source": [
    "X_test, y_test = [], []\n",
    "for qid, cdict in qrel.items():\n",
    "    q = q_emb[qpaper.index(qid)]\n",
    "    for cid, label in cdict.items():\n",
    "        c = c_emb[cpaper.index(cid)]\n",
    "        train_sample = np.hstack((q, c))\n",
    "        X_test.append(train_sample)\n",
    "        y_test.append(int(label))\n",
    "X_test = np.array(X_test, dtype=np.float64)\n",
    "y_test = np.array(y_test, dtype=np.float64)\n",
    "X_test.shape, y_test.shape"
   ]
  },
  {
   "cell_type": "code",
   "execution_count": 107,
   "id": "5d8ce030-e142-4dde-abc5-008d985b8bb0",
   "metadata": {},
   "outputs": [
    {
     "name": "stdout",
     "output_type": "stream",
     "text": [
      "Fitting 3 folds for each of 5 candidates, totalling 15 fits\n"
     ]
    }
   ],
   "source": [
    "pred = classify(X_train, X_test, y_train)"
   ]
  },
  {
   "cell_type": "code",
   "execution_count": 108,
   "id": "0f1946f3-ac25-478f-b40a-3d3d5fa48b7b",
   "metadata": {},
   "outputs": [
    {
     "data": {
      "text/plain": [
       "array([0, 0, 0, 0, 0, 0, 0, 0, 0, 0, 0, 0, 0, 0, 0, 0, 0, 0, 0, 0, 0, 0,\n",
       "       0, 0, 0, 0, 0, 0, 0, 0, 0, 0, 0, 0, 0, 0, 0, 0, 0, 0, 0, 0, 0, 0,\n",
       "       0, 0, 0, 0, 0, 0, 0, 0, 0, 0, 0, 0, 0, 0, 0, 0, 0, 0, 0, 0, 0, 0,\n",
       "       0, 0, 0, 0, 0, 0, 0, 0, 0, 0, 0, 0, 0, 0, 0, 0, 0, 0, 0, 0, 0, 0,\n",
       "       0, 0, 0, 0, 0, 0, 0, 0, 0, 0, 0, 0, 0, 0, 0, 0, 0, 0, 0, 0, 0, 0,\n",
       "       0, 0, 0, 0, 0, 0, 0, 0, 0, 0, 0, 0, 0, 0, 0, 0, 0, 0, 0, 0, 0, 0,\n",
       "       0, 0, 0, 0, 0, 0, 0, 0, 0, 0, 0, 0, 0, 0, 0, 0, 0, 0, 0, 0, 0, 0,\n",
       "       0, 0, 0, 0, 0, 0, 0, 0, 0, 0, 0, 0, 0, 0, 0, 0, 0, 0, 0, 0, 0, 0,\n",
       "       0, 0, 0, 0, 0, 0, 0, 0, 0, 0, 0, 0, 0, 0, 0, 0, 0, 0, 0, 0, 0, 0,\n",
       "       0, 0, 0, 0, 0, 0, 0, 0, 0, 0, 0, 0, 0, 0, 0, 0, 0, 0, 0, 0, 0, 0,\n",
       "       0, 0, 0, 0, 0, 0, 0, 0, 0, 0, 0, 0, 0, 0, 0, 0, 0, 0, 0, 0, 0, 0,\n",
       "       0, 0, 0, 0, 0, 0, 0, 0, 0, 0, 0, 0, 0, 0, 0, 0, 0, 0, 0, 0, 0, 0,\n",
       "       0, 0, 0, 0, 0, 0, 0, 0, 0, 0, 0, 0, 0, 0, 0, 0, 0, 0, 0, 0, 0, 0,\n",
       "       0, 0, 0, 0, 0, 0, 0, 0, 0, 0, 0, 0, 0, 0, 0, 0, 0, 0, 0, 0, 0, 0,\n",
       "       0, 0, 0, 0, 0, 0, 0, 0, 0, 0, 0, 0, 0, 0, 0, 0, 0, 0, 0, 0, 0, 0,\n",
       "       0, 0, 0, 0, 0, 0, 0, 0, 0, 0, 0, 0, 0, 0, 0, 0, 0, 0, 0, 0, 0, 0,\n",
       "       0, 0, 0, 0, 0, 0, 0, 0, 0, 0, 0, 0, 0, 0, 0, 0, 0, 0, 0, 0, 0, 0,\n",
       "       0, 0, 0, 0, 0, 0, 0, 0, 0, 0, 0, 0, 0, 0, 0, 0, 0, 0, 0, 0, 0, 0,\n",
       "       0, 0, 0, 0, 0, 0, 0, 0, 0, 0, 0, 0, 0, 0, 0, 0, 0, 0, 0, 0, 0, 0,\n",
       "       0, 0, 0, 0, 0, 0, 0, 0, 0, 0, 0, 0, 0, 0, 0, 0, 0, 0, 0, 0, 0, 0,\n",
       "       0, 0, 0, 0, 0, 0, 0, 0, 0, 0, 0, 0, 0, 0, 0, 0, 0, 0, 0, 0, 0, 0,\n",
       "       0, 0, 0, 0, 0, 0, 0, 0, 0, 0, 0, 0, 0, 0, 0, 0, 0, 0, 0, 0, 0, 0,\n",
       "       0, 0, 0, 0, 0, 0, 0, 0, 0, 0, 0, 0, 0, 0, 0, 0, 0, 0, 0, 0, 0, 0,\n",
       "       0, 0, 0, 0, 0, 0, 0, 0, 0, 0, 0, 0, 0, 0, 0, 0, 0, 0, 0, 0, 0, 0,\n",
       "       0, 0, 0, 0, 0, 0, 0, 0, 0, 0, 0, 0, 0, 0, 0, 0, 0, 0, 0, 0, 0, 0,\n",
       "       0, 0, 0, 0, 0, 0, 0, 0, 0, 0, 0, 0, 0, 0, 0, 0, 0, 0, 0, 0, 0, 0,\n",
       "       0, 0, 0, 0, 0, 0, 0, 0, 0, 0, 0, 0, 0, 0, 0, 0, 0, 0, 0, 0, 0, 0,\n",
       "       0, 0, 0, 0, 0, 0, 0, 0, 0, 0, 0, 0, 0, 0, 0, 0, 0, 0, 0, 0, 0, 0,\n",
       "       0, 0, 0, 0, 0, 0], dtype=int32)"
      ]
     },
     "execution_count": 108,
     "metadata": {},
     "output_type": "execute_result"
    }
   ],
   "source": [
    "pred"
   ]
  },
  {
   "cell_type": "code",
   "execution_count": 112,
   "id": "99c5f8b1-429d-47ee-940e-03efff7212bc",
   "metadata": {},
   "outputs": [
    {
     "data": {
      "text/plain": [
       "0.8745980707395499"
      ]
     },
     "execution_count": 112,
     "metadata": {},
     "output_type": "execute_result"
    }
   ],
   "source": [
    "num_correct = 0\n",
    "for i in range(len(pred)):\n",
    "    if pred[i] == y_test[i]:\n",
    "        num_correct += 1\n",
    "accuracy = num_correct  / len(pred)\n",
    "accuracy"
   ]
  }
 ],
 "metadata": {
  "kernelspec": {
   "display_name": "Python 3 (ipykernel)",
   "language": "python",
   "name": "python3"
  },
  "language_info": {
   "codemirror_mode": {
    "name": "ipython",
    "version": 3
   },
   "file_extension": ".py",
   "mimetype": "text/x-python",
   "name": "python",
   "nbconvert_exporter": "python",
   "pygments_lexer": "ipython3",
   "version": "3.9.18"
  }
 },
 "nbformat": 4,
 "nbformat_minor": 5
}
